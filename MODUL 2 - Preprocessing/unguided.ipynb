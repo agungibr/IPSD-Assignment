{
 "cells": [
  {
   "cell_type": "markdown",
   "id": "bcac59aa-0e18-4209-85df-53dda5578b8d",
   "metadata": {},
   "source": [
    "<h3>Load data (movie classification)</h3>"
   ]
  },
  {
   "cell_type": "code",
   "execution_count": 1,
   "id": "b0fa0cea-7b0e-4d5d-9690-18f15840bbae",
   "metadata": {},
   "outputs": [],
   "source": [
    "import pandas as pd\n",
    "\n",
    "df = pd.read_csv('movie_classification.csv')"
   ]
  },
  {
   "cell_type": "markdown",
   "id": "dc3e8b47-a73d-4051-81f9-3db0c874c739",
   "metadata": {},
   "source": [
    "<h3>Cek nilai duplikat</h3>"
   ]
  },
  {
   "cell_type": "code",
   "execution_count": 2,
   "id": "f53908c5-6605-4b44-9bfd-374f813c366e",
   "metadata": {},
   "outputs": [
    {
     "name": "stdout",
     "output_type": "stream",
     "text": [
      "0\n"
     ]
    }
   ],
   "source": [
    "print(df.duplicated().sum())"
   ]
  },
  {
   "cell_type": "markdown",
   "id": "d6c288ef-c99c-44b2-a4a4-6abd8d21cfbf",
   "metadata": {},
   "source": [
    "<h3>Menemukan null values buat presentase</h3>"
   ]
  },
  {
   "cell_type": "code",
   "execution_count": 3,
   "id": "b74df8d1-85ec-4aa5-a48b-1c8c8bf6e44b",
   "metadata": {},
   "outputs": [
    {
     "data": {
      "text/plain": [
       "Marketing expense      0.000000\n",
       "Production expense     0.000000\n",
       "Multiplex coverage     0.000000\n",
       "Budget                 0.000000\n",
       "Movie_length           0.000000\n",
       "Lead_ Actor_Rating     0.000000\n",
       "Lead_Actress_rating    0.000000\n",
       "Director_rating        0.000000\n",
       "Producer_rating        0.000000\n",
       "Critic_rating          0.000000\n",
       "Trailer_views          0.000000\n",
       "3D_available           0.000000\n",
       "Time_taken             2.371542\n",
       "Twitter_hastags        0.000000\n",
       "Genre                  0.000000\n",
       "Avg_age_actors         0.000000\n",
       "Num_multiplex          0.000000\n",
       "Collection             0.000000\n",
       "Start_Tech_Oscar       0.000000\n",
       "dtype: float64"
      ]
     },
     "execution_count": 3,
     "metadata": {},
     "output_type": "execute_result"
    }
   ],
   "source": [
    "(df.isnull().sum())/len(df)*100"
   ]
  },
  {
   "cell_type": "markdown",
   "id": "cab90589-4027-42ec-b129-0fcaa28dc241",
   "metadata": {},
   "source": [
    "<h3>Drop missing value berdasarkan baris</h3>"
   ]
  },
  {
   "cell_type": "code",
   "execution_count": 4,
   "id": "37117c79-b38e-4fbf-abfc-7325ee1be643",
   "metadata": {},
   "outputs": [],
   "source": [
    "baris = df.copy(deep=True)\n",
    "\n",
    "drop_baris = baris.dropna()"
   ]
  },
  {
   "cell_type": "markdown",
   "id": "75add778-3c45-4643-8243-95e2ddbf1829",
   "metadata": {},
   "source": [
    "<h3>Drop missing value berdasarkan kolom</h3>"
   ]
  },
  {
   "cell_type": "code",
   "execution_count": 5,
   "id": "21a196d7-069f-4aed-9bae-a37a0f147c9c",
   "metadata": {},
   "outputs": [],
   "source": [
    "kolom = df.copy(deep=True)\n",
    "\n",
    "drop_kolom = kolom.dropna(axis=1)"
   ]
  },
  {
   "cell_type": "markdown",
   "id": "6b29c044-89d9-435c-9e06-4d70f5a3f8ef",
   "metadata": {},
   "source": [
    "<h3>Imputasi dengan mean</h3>"
   ]
  },
  {
   "cell_type": "code",
   "execution_count": 6,
   "id": "d634f53e-ab80-4cf1-b765-273cd3109066",
   "metadata": {},
   "outputs": [],
   "source": [
    "mean_imputation = df.copy(deep=True)\n",
    "\n",
    "mean_imputation['Time_taken'] = mean_imputation['Time_taken'].fillna(mean_imputation['Time_taken'].mean())"
   ]
  },
  {
   "cell_type": "markdown",
   "id": "bbc7a775-dca2-4c69-acc7-496b2289d900",
   "metadata": {},
   "source": [
    "<h3>Imputasi dengan modus</h3>"
   ]
  },
  {
   "cell_type": "code",
   "execution_count": 7,
   "id": "c706dae2-f35b-4978-9f06-026603544350",
   "metadata": {},
   "outputs": [],
   "source": [
    "modus_imputation = df.copy(deep=True)\n",
    "\n",
    "modus_imputation['Time_taken'] = modus_imputation['Time_taken'].fillna(modus_imputation['Time_taken'].mode()[0])"
   ]
  },
  {
   "cell_type": "markdown",
   "id": "397c1dec-1aa0-45b4-955e-f1e20386e41a",
   "metadata": {},
   "source": [
    "<h3>Imputasi dengan median</h3>"
   ]
  },
  {
   "cell_type": "code",
   "execution_count": 8,
   "id": "9e5c472d-4db3-429a-ab7a-f27582d6d8ad",
   "metadata": {},
   "outputs": [],
   "source": [
    "median_imputation = df.copy(deep=True)\n",
    "\n",
    "median_imputation['Time_taken'] = median_imputation['Time_taken'].fillna(median_imputation['Time_taken'].median())"
   ]
  },
  {
   "cell_type": "markdown",
   "id": "815cc28f-a315-46c8-bf15-b71f00000478",
   "metadata": {},
   "source": [
    "<h3>Export data csv & excel</h3>"
   ]
  },
  {
   "cell_type": "code",
   "execution_count": 14,
   "id": "51667d49-345e-446a-b755-1a15e719ae68",
   "metadata": {},
   "outputs": [],
   "source": [
    "mean_imputation.to_excel('Movie_classification_clean_mean.xlsx', index=False)\n",
    "modus_imputation.to_excel('Movie_classification_clean_modus.xlsx', index=False)\n",
    "median_imputation.to_excel('Movie_classification_clean_median.xlsx', index=False)\n",
    "\n",
    "mean_imputation.to_csv('Movie_classification_clean_mean.csv', index=False)\n",
    "modus_imputation.to_csv('Movie_classification_clean_modus.csv', index=False)\n",
    "median_imputation.to_csv('Movie_classification_clean_median.csv', index=False)"
   ]
  }
 ],
 "metadata": {
  "kernelspec": {
   "display_name": "Python 3 (ipykernel)",
   "language": "python",
   "name": "python3"
  },
  "language_info": {
   "codemirror_mode": {
    "name": "ipython",
    "version": 3
   },
   "file_extension": ".py",
   "mimetype": "text/x-python",
   "name": "python",
   "nbconvert_exporter": "python",
   "pygments_lexer": "ipython3",
   "version": "3.12.3"
  }
 },
 "nbformat": 4,
 "nbformat_minor": 5
}
