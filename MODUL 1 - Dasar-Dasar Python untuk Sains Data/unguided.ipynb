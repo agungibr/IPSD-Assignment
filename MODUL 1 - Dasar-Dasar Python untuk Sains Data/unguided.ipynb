{
 "cells": [
  {
   "cell_type": "markdown",
   "id": "ef7d6a6e-c4d9-4f4d-a2ab-18870066e2b4",
   "metadata": {},
   "source": [
    "<h3>1. Memecahkan Masalah Unik dengan Loop dan If-Else</h3>\n",
    "\n",
    "> Buatlah program yang dapat menghasilkan pola berbentuk angka seperti di bawah ini, dengan syarat angka yang ditampilkan adalah hasil dari penjumlahan bilangan prima sebelumnya:\n",
    "\n",
    "> ```bash\n",
    "> 1 \n",
    "> 2 3 \n",
    "> 5 7 11 \n",
    "> 13 17 19 23\n",
    "> ```\n",
    "\n",
    "> Jumlah angka pada setiap baris bertambah 1, dan bilangan yang ditampilkan adalah bilangan prima."
   ]
  },
  {
   "cell_type": "code",
   "execution_count": 5,
   "id": "d1f22799-a9b5-4c7d-a0a0-cdad2f0f1725",
   "metadata": {},
   "outputs": [
    {
     "name": "stdout",
     "output_type": "stream",
     "text": [
      "1\n",
      "2 3 \n",
      "5 7 11 \n",
      "13 17 19 23 \n"
     ]
    }
   ],
   "source": [
    "n = 2\n",
    "\n",
    "for i in range(4):\n",
    "    if i == 0:\n",
    "        print(1)\n",
    "    else:\n",
    "        for j in range(i+1):\n",
    "            ok = False\n",
    "            while not ok:\n",
    "                ok = True\n",
    "                for k in range(2, int(n**0.5) + 1):\n",
    "                    if n % k == 0:\n",
    "                        ok = False\n",
    "                        break\n",
    "                if not ok:\n",
    "                    n += 1\n",
    "            print(n, end=\" \")\n",
    "            n += 1\n",
    "        print()"
   ]
  },
  {
   "cell_type": "markdown",
   "id": "55d993cb-c1d2-461e-99e9-2fa65f460f1b",
   "metadata": {},
   "source": [
    "<h3>2. Membuat Fungsi dengan Syarat Spesifik</h3>\n",
    "\n",
    "> Buatlah sebuah fungsi yang menerima dua input berupa list angka. Fungsi ini harus  mengembalikan sebuah list baru yang berisi elemen dari dua list input yang memiliki indeks ganjil. List baru tersebut juga harus diurutkan secara menurun berdasarkan nilai elemen."
   ]
  },
  {
   "cell_type": "code",
   "execution_count": 26,
   "id": "a29271b5-11bd-4e2f-9e01-6f5e83009be2",
   "metadata": {},
   "outputs": [
    {
     "name": "stdout",
     "output_type": "stream",
     "text": [
      "first list: [2, 1, 5, 4, 3] \n",
      "second list: [10, 9, 8, 7, 6] \n",
      "new list: [1, 3, 5, 7, 9]\n"
     ]
    }
   ],
   "source": [
    "def odds(data1, data2):\n",
    "    mergedata = sorted(data1 + data2)\n",
    "\n",
    "    def filter(data):\n",
    "        if not data:\n",
    "            return []\n",
    "        head = [data[0]] if data [0] % 2 == 1 else []\n",
    "        if len(data) > 1:\n",
    "            return head + filter (data[1:])\n",
    "        else:\n",
    "            return head\n",
    "            \n",
    "    return filter(mergedata)\n",
    "\n",
    "list1 = [2,1,5,4,3]\n",
    "list2 = [10,9,8,7,6]\n",
    "print(\"first list:\", list1, \"\\nsecond list:\", list2, \"\\nnew list:\", odds(list1, list2))"
   ]
  },
  {
   "cell_type": "markdown",
   "id": "97720d4b-c5fe-4fcf-aaa9-6d7944537bdc",
   "metadata": {},
   "source": [
    "<h3>3. Exception Handling dalam Konteks Nyata</h3>\n",
    "\n",
    "> Buat sebuah program untuk mensimulasikan transaksi ATM. Program harus:\n",
    "> 1. Meminta pengguna memasukkan PIN (dibatasi 3 kali percobaan). \n",
    "> 2. Setelah PIN benar, meminta jumlah penarikan. \n",
    "> 3. Jika saldo kurang dari jumlah yang ditarik, munculkan pesan kesalahan. \n",
    "> 4. Jika penarikan berhasil, tampilkan saldo akhir."
   ]
  },
  {
   "cell_type": "code",
   "execution_count": 39,
   "id": "5aae85d2-0695-490f-8957-08930fe7fb89",
   "metadata": {},
   "outputs": [
    {
     "name": "stdin",
     "output_type": "stream",
     "text": [
      "Input PIN:  1234\n"
     ]
    },
    {
     "name": "stdout",
     "output_type": "stream",
     "text": [
      "Success!\n"
     ]
    },
    {
     "name": "stdin",
     "output_type": "stream",
     "text": [
      "How many you want to withdraw?:  500000\n"
     ]
    },
    {
     "name": "stdout",
     "output_type": "stream",
     "text": [
      "Success, you have 500000.0 left\n"
     ]
    },
    {
     "data": {
      "text/plain": [
       "True"
      ]
     },
     "execution_count": 39,
     "metadata": {},
     "output_type": "execute_result"
    }
   ],
   "source": [
    "class Bank:\n",
    "    def __init__(self):\n",
    "        self.balance = 1000000\n",
    "\n",
    "    def login(self):\n",
    "        att = 3\n",
    "        while att > 0:\n",
    "            pin = int(input(\"Input PIN: \"))\n",
    "            if pin == 1234:\n",
    "                print(\"Success!\")\n",
    "                self.withdraw()\n",
    "                return True\n",
    "            else:\n",
    "                att -= 1  \n",
    "                if att > 0:\n",
    "                    print(f\"Invalid Login! You have {att} attempts left.\")\n",
    "                else:\n",
    "                    print(\"Access Denied!\")  \n",
    "\n",
    "        return False\n",
    "\n",
    "    def withdraw(self):\n",
    "        amount = float(input(\"How many you want to withdraw?: \"))\n",
    "        if amount > self.balance:\n",
    "            print(\"Damn, you don't have enough balance\")\n",
    "        else:\n",
    "            self.balance -= amount\n",
    "            print(f\"Success, you have {self.balance} left in your balances\")\n",
    "\n",
    "account = Bank()\n",
    "account.login()"
   ]
  },
  {
   "cell_type": "markdown",
   "id": "9715d4df-b4da-4996-9b61-481d7b5c60c8",
   "metadata": {},
   "source": [
    "<h3>4. Studi Kasus Pengelolaan Data</h3>\n",
    "\n",
    "> Anda diberikan file CSV berisi data nilai ujian mahasiswa. Tugas Anda adalah menulis sebuah program yang:\n",
    "> 1. Membaca file CSV dan menyimpan datanya ke dalam dictionary.\n",
    "> 2. Menghitung rata-rata nilai tiap mahasiswa.\n",
    "> 3. Menampilkan mahasiswa dengan nilai tertinggi dan terendah. "
   ]
  },
  {
   "cell_type": "code",
   "execution_count": 53,
   "id": "a5eb8075-cf2a-4ec4-a3b4-b0382ac6e55c",
   "metadata": {},
   "outputs": [
    {
     "name": "stdout",
     "output_type": "stream",
     "text": [
      "mean score: 72.0 \n",
      "highest score: 100 \n",
      "lowest score: 50\n"
     ]
    }
   ],
   "source": [
    "import pandas as pd\n",
    "import numpy as np\n",
    "\n",
    "data = pd.read_csv('siswa_nilai.csv')\n",
    "df = data.to_dict(orient='records')\n",
    "\n",
    "n = [record['Nilai'] for record in df]\n",
    "\n",
    "nilai = np.mean(n)\n",
    "highest = np.max(n)\n",
    "lowest = np.min(n)\n",
    "\n",
    "print(f\"mean score: {nilai}\", f\"\\nhighest score: {highest}\", f\"\\nlowest score: {lowest}\")"
   ]
  },
  {
   "cell_type": "markdown",
   "id": "1d8f89e5-d0f5-4f5b-9221-f5d5c1172a92",
   "metadata": {},
   "source": [
    "<h3>5. Kombinasi Logika dan Kreativitas</h3>\n",
    "\n",
    "> Buatlah permainan sederhana menggunakan Python, di mana komputer akan memilih sebuah angka secara acak antara 1 hingga 100, dan pengguna harus menebak angka tersebut. Setiap tebakan yang salah akan memberikan petunjuk apakah angka yang ditebak lebih besar atau lebih kecil dari angka sebenarnya. Batasi jumlah percobaan menjadi 5 kali. Setelah permainan selesai, tampilkan apakah pemain menang atau kalah."
   ]
  },
  {
   "cell_type": "code",
   "execution_count": 59,
   "id": "7fe34e36-af10-4453-95d1-367de6cac0db",
   "metadata": {},
   "outputs": [
    {
     "name": "stdout",
     "output_type": "stream",
     "text": [
      "               Welcome to the Game!               \n"
     ]
    },
    {
     "name": "stdin",
     "output_type": "stream",
     "text": [
      "Guess a number between 1 until 100: 99\n"
     ]
    },
    {
     "name": "stdout",
     "output_type": "stream",
     "text": [
      "Try Again!\n"
     ]
    },
    {
     "name": "stdin",
     "output_type": "stream",
     "text": [
      "Guess a number between 1 until 100: 97\n"
     ]
    },
    {
     "name": "stdout",
     "output_type": "stream",
     "text": [
      "Try Again!\n"
     ]
    },
    {
     "name": "stdin",
     "output_type": "stream",
     "text": [
      "Guess a number between 1 until 100: 86\n"
     ]
    },
    {
     "name": "stdout",
     "output_type": "stream",
     "text": [
      "Try Again!\n",
      "Sorry loser, you ran out of attempts! The secret number is 9\n"
     ]
    }
   ],
   "source": [
    "import random\n",
    "\n",
    "lower = 1\n",
    "upper = 100\n",
    "max_att = 3\n",
    "\n",
    "secretnum = random.randint(lower, upper)\n",
    "\n",
    "def get_guess():\n",
    "    while True:\n",
    "        try:\n",
    "            guess = int(input(f\"Guess a number between {lower} until {upper}:\"))\n",
    "            if lower <= guess <= upper:\n",
    "                return guess\n",
    "            else:\n",
    "                print(\"Invalid. Try Again!\")\n",
    "        except ValueError:\n",
    "            print(\"Can you plz input a valid number??\")\n",
    "\n",
    "def check_guess(guess, secretnum):\n",
    "    if guess == secretnum:\n",
    "        return \"Correct\"\n",
    "    elif guess < secretnum:\n",
    "        return \"To low\"\n",
    "    else:\n",
    "        return \"To high\"\n",
    "\n",
    "def play_game():\n",
    "    att = 0\n",
    "    won = False\n",
    "\n",
    "    while att < max_att:\n",
    "        att += 1\n",
    "        guess = get_guess()\n",
    "        result = check_guess(guess, secretnum)\n",
    "\n",
    "        if result == \"Correct\":\n",
    "            print(f\"I can't belive you actually did it. You guessing {secretnum} in {att} attemps\")\n",
    "            won = True\n",
    "            break\n",
    "        else:\n",
    "            print(\"Try Again!\")\n",
    "\n",
    "    if not won:\n",
    "        print(f\"Sorry loser, you ran out of attempts! The secret number is {secretnum}\")\n",
    "\n",
    "if __name__ == \"__main__\":\n",
    "    w = \"Welcome to the Game!\"\n",
    "    print(w.center(50, ' '))\n",
    "    play_game()"
   ]
  },
  {
   "cell_type": "markdown",
   "id": "15fbcf22-1c04-470e-9db5-3ece172451f5",
   "metadata": {},
   "source": [
    "<h3>6. Rekursi yang Tidak Biasa</h3>\n",
    "\n",
    "> Buat fungsi rekursif yang menerima input bilangan bulat `n` dan menghasilkan urutan  bilangan seperti berikut ini:\n",
    "\n",
    "> ```bash\n",
    "> Input: n = 4\n",
    "> Output: 1, 1, 2, 6, 24\n",
    "> ```\n",
    "\n",
    "> Fungsi ini harus menggunakan konsep rekursi untuk menghitung faktorial setiap angka hingga `n`. "
   ]
  },
  {
   "cell_type": "code",
   "execution_count": 68,
   "id": "4c903967-756c-4ed9-b723-e2a1f5fafc66",
   "metadata": {},
   "outputs": [
    {
     "name": "stdout",
     "output_type": "stream",
     "text": [
      "Input: n = 4\n",
      "Output: 1, 1, 2, 6, 24\n"
     ]
    }
   ],
   "source": [
    "def factorial(n, result=None, step=1):\n",
    "    if result is None:\n",
    "        result = [1]\n",
    "\n",
    "    if step > n:\n",
    "        return result\n",
    "    \n",
    "    result.append(result[-1] * step)\n",
    "\n",
    "    return factorial(n, result, step + 1)\n",
    "    \n",
    "n = 4\n",
    "result = factorial(n)\n",
    "hasil = \", \".join(map(str, result))\n",
    "\n",
    "print(f\"Input: n = {n}\")\n",
    "print(f\"Output: {hasil}\")"
   ]
  },
  {
   "cell_type": "markdown",
   "id": "5b5c9c79-a902-4bb3-aea3-1e8874011cb8",
   "metadata": {},
   "source": [
    "<h3>7. Pemrograman dengan Algoritma Greedy</h3>\n",
    "\n",
    "> Buatlah program untuk memecahkan masalah \"minimum coin change\". Diberikan jumlah uang dan daftar nilai koin yang tersedia (misalnya, 1, 5, 10, 25), tentukan kombinasi minimum koin yang diperlukan untuk mencapai jumlah uang tersebut. Namun, program Anda harus bisa menangani koin-koin yang nilai dan jumlahnya ditentukan pengguna."
   ]
  },
  {
   "cell_type": "code",
   "execution_count": 75,
   "id": "b30e578c-05c1-4278-9177-cafd53e70447",
   "metadata": {},
   "outputs": [
    {
     "name": "stdout",
     "output_type": "stream",
     "text": [
      "Coin 85: 25 25 25 10 "
     ]
    }
   ],
   "source": [
    "def find(v):\n",
    "    coin = [1,5,10,25]\n",
    "    n = len(coin)\n",
    "\n",
    "    ans = []\n",
    "\n",
    "    i = n - 1\n",
    "    while(i >= 0):\n",
    "        while(v >= coin[i]):\n",
    "            v -= coin[i]\n",
    "            ans.append(coin[i])\n",
    "\n",
    "        i -= 1\n",
    "\n",
    "    for i in range(len(ans)):\n",
    "        print(ans[i], end = \" \")\n",
    "\n",
    "if __name__ == '__main__':\n",
    "    n = 85\n",
    "    print(f\"Coin {n}:\", end = \" \")\n",
    "    find(n)"
   ]
  },
  {
   "cell_type": "markdown",
   "id": "4b776294-6e68-46e9-a996-00b398329760",
   "metadata": {},
   "source": [
    "<h3>8. Kombinasi String dan Manipulasi List</h3>\n",
    "\n",
    "> Buat sebuah program yang menerima string dari pengguna dan mengonversi string tersebut menjadi sebuah list berisi kata-kata terbalik. Misalnya:\n",
    "> ```bash\n",
    "> Input: \"Saya suka Python\" \n",
    "> Output: [\"ayaS\", \"akus\", \"nohtyP\"]\n",
    "> ```"
   ]
  },
  {
   "cell_type": "code",
   "execution_count": 83,
   "id": "9417ef21-25ca-40f2-beab-d1dc885b8e39",
   "metadata": {},
   "outputs": [
    {
     "name": "stdin",
     "output_type": "stream",
     "text": [
      "Input:  Saya suka Python\n"
     ]
    },
    {
     "name": "stdout",
     "output_type": "stream",
     "text": [
      "Output: ['ayaS', 'akus', 'nohtyP']\n"
     ]
    }
   ],
   "source": [
    "ori = input(\"Input: \")\n",
    "words = ori.split()\n",
    "\n",
    "reversed_words = [word[::-1] for word in words]\n",
    "\n",
    "print(f'Output: {reversed_words}')"
   ]
  },
  {
   "cell_type": "markdown",
   "id": "05ebba37-5cb1-438f-8a87-81b9f1689c1d",
   "metadata": {},
   "source": [
    "<h3>9. Konsep Class dan Object-Oriented Programming</h3>\n",
    "\n",
    "> Buat class bernama `Buku` yang memiliki atribut `judul`, `penulis`, dan `tahun_terbit`. Buat method dalam class untuk menampilkan informasi buku, serta method untuk menghitung usia buku berdasarkan tahun saat ini. Buatlah 3 objek dari class `Buku` dan tampilkan informasi serta usia masing-masing buku."
   ]
  },
  {
   "cell_type": "code",
   "execution_count": 111,
   "id": "842805be-79a3-47cb-81ac-f1b894f1d606",
   "metadata": {},
   "outputs": [
    {
     "name": "stdout",
     "output_type": "stream",
     "text": [
      "\n",
      "===== BOOK INFORMATION 1 =====\n",
      "Judul Buku: The Great Gatsby\n",
      "Penulis: F. Scott Fitzgerald\n",
      "Tahun Terbit: 1925\n",
      "Usia Buku: 99 tahun\n",
      "\n",
      "===== BOOK INFORMATION 2 =====\n",
      "Judul Buku: Death Comes for the Archbishop\n",
      "Penulis: Willa Cather\n",
      "Tahun Terbit: 1927\n",
      "Usia Buku: 97 tahun\n",
      "\n",
      "===== BOOK INFORMATION 3 =====\n",
      "Judul Buku: To Kill a Mockingbird\n",
      "Penulis: Harper Lee\n",
      "Tahun Terbit: 1960\n",
      "Usia Buku: 64 tahun\n"
     ]
    }
   ],
   "source": [
    "from datetime import datetime\n",
    "\n",
    "class Buku:\n",
    "    def __init__(self, judul, penulis, tahun_terbit):\n",
    "        self.judul = judul\n",
    "        self.penulis = penulis\n",
    "        self.tahun_terbit = tahun_terbit\n",
    "\n",
    "    def info(self):\n",
    "        print(f\"Judul Buku: {self.judul}\")\n",
    "        print(f\"Penulis: {self.penulis}\")\n",
    "        print(f\"Tahun Terbit: {self.tahun_terbit}\")\n",
    "        print(f\"Usia Buku: {self.usia()} tahun\")\n",
    "\n",
    "    def usia(self):\n",
    "        current_year = datetime.now().year\n",
    "        return current_year - self.tahun_terbit\n",
    "\n",
    "def main():\n",
    "    buku1 = Buku(\"The Great Gatsby\", \"F. Scott Fitzgerald\", 1925)\n",
    "    buku2 = Buku(\"Death Comes for the Archbishop\", \"Willa Cather\", 1927)\n",
    "    buku3 = Buku(\"To Kill a Mockingbird\", \"Harper Lee\", 1960)\n",
    "\n",
    "    print(\"\\n===== BOOK INFORMATION 1 =====\")\n",
    "    buku1.info()\n",
    "    \n",
    "    print(\"\\n===== BOOK INFORMATION 2 =====\")\n",
    "    buku2.info()\n",
    "\n",
    "    print(\"\\n===== BOOK INFORMATION 3 =====\")\n",
    "    buku3.info()\n",
    "\n",
    "if __name__ == \"__main__\":\n",
    "    main()"
   ]
  },
  {
   "cell_type": "markdown",
   "id": "8bb4839b-c6c5-4c95-b351-89d290a11479",
   "metadata": {},
   "source": [
    "<h3>10. Algoritma dengan Persyaratan Logika Khusus</h3>\n",
    "\n",
    "> Buatlah program yang mengimplementasikan algoritma pencarian biner, namun dengan modifikasi: algoritma harus bisa mencari nilai di list yang hanya berisi angka genap, dan jika nilai yang dicari adalah angka ganjil, program harus menampilkan pesan bahwa nilai tersebut tidak bisa ditemukan."
   ]
  },
  {
   "cell_type": "code",
   "execution_count": 113,
   "id": "b3411d18-6e58-49e1-a57d-0f88f5a32d41",
   "metadata": {},
   "outputs": [
    {
     "name": "stdin",
     "output_type": "stream",
     "text": [
      "Enter a number:  2\n"
     ]
    },
    {
     "name": "stdout",
     "output_type": "stream",
     "text": [
      "Value 2 found at index 1\n"
     ]
    }
   ],
   "source": [
    "def binary(arr, target):\n",
    "    if target % 2 != 0:\n",
    "        return \"Sorry, it's an odd number\"\n",
    "\n",
    "    left, right = 0, len(arr) - 1\n",
    "\n",
    "    while left <= right:\n",
    "        mid = (left + right) // 2\n",
    "\n",
    "        if arr[mid] == target:\n",
    "            return f\"Value {target} found at index {mid}\"\n",
    "        elif arr[mid] < target:\n",
    "            left = mid + 1\n",
    "        else:\n",
    "            right = mid - 1\n",
    "\n",
    "    return f\"Value {target} not found in the list\"\n",
    "\n",
    "def main():\n",
    "    num = [1,2,3,4,5,6,7,8,9]\n",
    "\n",
    "    try:\n",
    "        target = int(input(\"Enter a number: \"))\n",
    "    except ValueError:\n",
    "        print(\"Plz input a valid integer\")\n",
    "        return\n",
    "\n",
    "    result = binary(num, target)\n",
    "    print(result)\n",
    "\n",
    "if __name__ == \"__main__\":\n",
    "    main()"
   ]
  }
 ],
 "metadata": {
  "kernelspec": {
   "display_name": "Python 3 (ipykernel)",
   "language": "python",
   "name": "python3"
  },
  "language_info": {
   "codemirror_mode": {
    "name": "ipython",
    "version": 3
   },
   "file_extension": ".py",
   "mimetype": "text/x-python",
   "name": "python",
   "nbconvert_exporter": "python",
   "pygments_lexer": "ipython3",
   "version": "3.12.3"
  }
 },
 "nbformat": 4,
 "nbformat_minor": 5
}
